{
 "cells": [
  {
   "cell_type": "code",
   "execution_count": 2,
   "metadata": {},
   "outputs": [],
   "source": [
    "import pickle\n",
    "import numpy as np\n",
    "import matplotlib.pyplot as plt"
   ]
  },
  {
   "cell_type": "code",
   "execution_count": 3,
   "metadata": {},
   "outputs": [],
   "source": [
    "def display_pickle_file(file_path):\n",
    "    with open(file_path, 'rb') as file:\n",
    "        data = pickle.load(file)\n",
    "        return data"
   ]
  },
  {
   "cell_type": "markdown",
   "metadata": {},
   "source": [
    "# Empty database"
   ]
  },
  {
   "cell_type": "code",
   "execution_count": 35,
   "metadata": {},
   "outputs": [
    {
     "name": "stdout",
     "output_type": "stream",
     "text": [
      "Data read from pickle file: [0.0012509000007412396, 0.0006947000001673587, 0.0006633999946643598, 0.0008214000044972636, 0.000851099997817073, 0.001145199996244628, 0.0006409999987226911, 0.0011075000002165325, 0.0006856999971205369, 0.0008222999967983924]\n",
      "Mean: 0.8683199986990076 ms\n",
      "Standard deviation: 0.21024116587863126 ms\n"
     ]
    }
   ],
   "source": [
    "db_no_matches_0 = display_pickle_file('db_no_matches_0.pkl')\n",
    "print(\"Data read from pickle file:\", db_no_matches_0)\n",
    "db_no_matches_0_ave = np.mean(db_no_matches_0) * 1000\n",
    "db_no_matches_0_std = np.std(db_no_matches_0) * 1000\n",
    "print(\"Mean:\", (db_no_matches_0_ave), \"ms\")\n",
    "print(\"Standard deviation:\", (db_no_matches_0_std), \"ms\")"
   ]
  },
  {
   "cell_type": "markdown",
   "metadata": {},
   "source": [
    "# No matching query in database"
   ]
  },
  {
   "cell_type": "markdown",
   "metadata": {},
   "source": [
    "### 1 DB entry"
   ]
  },
  {
   "cell_type": "code",
   "execution_count": 36,
   "metadata": {},
   "outputs": [
    {
     "name": "stdout",
     "output_type": "stream",
     "text": [
      "Data read from pickle file: [0.002751300002273638, 0.0011849000002257526, 0.0020509000023594126, 0.0021917999983998016, 0.0011155999964103103, 0.0012212000001454726, 0.001625400000193622, 0.0013112000015098602, 0.0020615000030375086, 0.0009578999961377122]\n",
      "Mean: 1.647170000069309 ms\n",
      "Standard deviation: 0.5582603099347999 ms\n"
     ]
    }
   ],
   "source": [
    "db_no_matches_1 = display_pickle_file('db_no_matches_1.pkl')\n",
    "print(\"Data read from pickle file:\", db_no_matches_1)\n",
    "db_no_matches_1_ave = np.mean(db_no_matches_1) * 1000\n",
    "db_no_matches_1_std = np.std(db_no_matches_1) * 1000\n",
    "print(\"Mean:\", (db_no_matches_1_ave), \"ms\")\n",
    "print(\"Standard deviation:\", (db_no_matches_1_std), \"ms\")"
   ]
  },
  {
   "cell_type": "markdown",
   "metadata": {},
   "source": [
    "### 2 DB entries"
   ]
  },
  {
   "cell_type": "code",
   "execution_count": 38,
   "metadata": {},
   "outputs": [
    {
     "name": "stdout",
     "output_type": "stream",
     "text": [
      "Data read from pickle file: [0.0023791999992681667, 0.002674499999557156, 0.002505099997506477, 0.002962600003229454, 0.0026265999986208044, 0.0019183999975211918, 0.0019473000065772794, 0.0022910000043339096, 0.0021561999965342693, 0.0033634999999776483]\n",
      "Mean: 2.4824400003126357 ms\n",
      "Standard deviation: 0.4269963961078579 ms\n"
     ]
    }
   ],
   "source": [
    "db_no_matches_2 = display_pickle_file('db_no_matches_2.pkl')\n",
    "print(\"Data read from pickle file:\", db_no_matches_2)\n",
    "db_no_matches_2_ave = np.mean(db_no_matches_2) * 1000\n",
    "db_no_matches_2_std = np.std(db_no_matches_2) * 1000\n",
    "print(\"Mean:\", (db_no_matches_2_ave), \"ms\")\n",
    "print(\"Standard deviation:\", (db_no_matches_2_std), \"ms\")"
   ]
  },
  {
   "cell_type": "markdown",
   "metadata": {},
   "source": [
    "### 3 DB entries"
   ]
  },
  {
   "cell_type": "code",
   "execution_count": 39,
   "metadata": {},
   "outputs": [
    {
     "name": "stdout",
     "output_type": "stream",
     "text": [
      "Data read from pickle file: [0.005636299996695016, 0.002936500000942033, 0.0019916999954148196, 0.0031717000019853003, 0.0034914999996544793, 0.0014957000021240674, 0.0017436999987694435, 0.0015123999983188696, 0.004631900003005285, 0.001948400000401307]\n",
      "Mean: 2.855979999731062 ms\n",
      "Standard deviation: 1.336320937422451 ms\n"
     ]
    }
   ],
   "source": [
    "db_no_matches_3 = display_pickle_file('db_no_matches_3.pkl')\n",
    "print(\"Data read from pickle file:\", db_no_matches_3)\n",
    "db_no_matches_3_ave = np.mean(db_no_matches_3) * 1000\n",
    "db_no_matches_3_std = np.std(db_no_matches_3) * 1000\n",
    "print(\"Mean:\", (db_no_matches_3_ave), \"ms\")\n",
    "print(\"Standard deviation:\", (db_no_matches_3_std), \"ms\")"
   ]
  },
  {
   "cell_type": "markdown",
   "metadata": {},
   "source": [
    "### 4 DB entries"
   ]
  },
  {
   "cell_type": "code",
   "execution_count": 40,
   "metadata": {},
   "outputs": [
    {
     "name": "stdout",
     "output_type": "stream",
     "text": [
      "Data read from pickle file: [0.0036254999940865673, 0.0027029999982914887, 0.0023596999963046983, 0.002616999998281244, 0.0025705000007292256, 0.0028763000009348616, 0.0043077000009361655, 0.001619599999685306, 0.0023686000058660284, 0.0025544000018271618]\n",
      "Mean: 2.7602299996942747 ms\n",
      "Standard deviation: 0.6981272457527656 ms\n"
     ]
    }
   ],
   "source": [
    "db_no_matches_4 = display_pickle_file('db_no_matches_4.pkl')\n",
    "print(\"Data read from pickle file:\", db_no_matches_4)\n",
    "db_no_matches_4_ave = np.mean(db_no_matches_4) * 1000\n",
    "db_no_matches_4_std = np.std(db_no_matches_4) * 1000\n",
    "print(\"Mean:\", (db_no_matches_4_ave), \"ms\")\n",
    "print(\"Standard deviation:\", (db_no_matches_4_std), \"ms\")"
   ]
  },
  {
   "cell_type": "markdown",
   "metadata": {},
   "source": [
    "### 5 DB entries"
   ]
  },
  {
   "cell_type": "code",
   "execution_count": 41,
   "metadata": {},
   "outputs": [
    {
     "name": "stdout",
     "output_type": "stream",
     "text": [
      "Data read from pickle file: [0.0028357999981381, 0.0017681000026641414, 0.005853100003150757, 0.004134399998292793, 0.002044100001512561, 0.00229609999951208, 0.0028180000008433126, 0.0029701999956159852, 0.0030880000049364753, 0.004433000001881737]\n",
      "Mean: 3.2240800006547943 ms\n",
      "Standard deviation: 1.1821137350200248 ms\n"
     ]
    }
   ],
   "source": [
    "db_no_matches_5 = display_pickle_file('db_no_matches_5.pkl')\n",
    "print(\"Data read from pickle file:\", db_no_matches_5)\n",
    "db_no_matches_5_ave = np.mean(db_no_matches_5) * 1000\n",
    "db_no_matches_5_std = np.std(db_no_matches_5) * 1000\n",
    "print(\"Mean:\", (db_no_matches_5_ave), \"ms\")\n",
    "print(\"Standard deviation:\", (db_no_matches_5_std), \"ms\")"
   ]
  },
  {
   "cell_type": "markdown",
   "metadata": {},
   "source": [
    "### Generate figure"
   ]
  },
  {
   "cell_type": "code",
   "execution_count": 34,
   "metadata": {},
   "outputs": [
    {
     "data": {
      "image/png": "[encoded data removed]",
      "text/plain": [
       "<Figure size 640x480 with 1 Axes>"
      ]
     },
     "metadata": {},
     "output_type": "display_data"
    }
   ],
   "source": [
    "db_no_matches_ave = [db_no_matches_1_ave, db_no_matches_2_ave, db_no_matches_3_ave, db_no_matches_4_ave, db_no_matches_5_ave] \n",
    "db_no_matches_std = [db_no_matches_1_std, db_no_matches_2_std, db_no_matches_3_std, db_no_matches_4_std, db_no_matches_5_std]\n",
    "\n",
    "bar_width = 0.5\n",
    "\n",
    "x_ticks = [x for x in range(1, len(db_no_matches_ave) + 1)]\n",
    "y_ticks = [y / 2 for y in range(0, 10)]\n",
    "\n",
    "plt.bar(x_ticks, db_no_matches_ave, bar_width, yerr=db_no_matches_std, capsize=3)\n",
    "\n",
    "plt.yticks(y_ticks)\n",
    "plt.xlabel('# of DB Entries')\n",
    "plt.ylabel('Average Execution Time (ms)')\n",
    "plt.title('Average Execution Time for No Matching Queries')\n",
    "\n",
    "plt.show()"
   ]
  },
  {
   "cell_type": "markdown",
   "metadata": {},
   "source": [
    "# Matching query at start of database (first entry)"
   ]
  },
  {
   "cell_type": "markdown",
   "metadata": {},
   "source": [
    "### 1 DB entry"
   ]
  },
  {
   "cell_type": "code",
   "execution_count": 42,
   "metadata": {},
   "outputs": [
    {
     "name": "stdout",
     "output_type": "stream",
     "text": [
      "Data read from pickle file: [0.001955400002771057, 0.0010734999959822744, 0.0015255000034812838, 0.0015217000036500394, 0.0009954000051948242, 0.00127269999939017, 0.0013180999958422035, 0.0017366000029142015, 0.0014690000025439076, 0.0010457999960635789]\n",
      "Mean: 1.391370000783354 ms\n",
      "Standard deviation: 0.2958073782604505 ms\n"
     ]
    }
   ],
   "source": [
    "db_match_start_1 = display_pickle_file('db_match_start_1.pkl')\n",
    "print(\"Data read from pickle file:\", db_match_start_1)\n",
    "db_match_start_1_ave = np.mean(db_match_start_1) * 1000\n",
    "db_match_start_1_std = np.std(db_match_start_1) * 1000\n",
    "print(\"Mean:\", (db_match_start_1_ave), \"ms\")\n",
    "print(\"Standard deviation:\", (db_match_start_1_std), \"ms\")"
   ]
  },
  {
   "cell_type": "markdown",
   "metadata": {},
   "source": [
    "### 2 DB entries"
   ]
  },
  {
   "cell_type": "code",
   "execution_count": 43,
   "metadata": {},
   "outputs": [
    {
     "name": "stdout",
     "output_type": "stream",
     "text": [
      "Data read from pickle file: [0.0018789000023389235, 0.0012905999974464066, 0.003659699999843724, 0.0012596000015037134, 0.0034875999990617856, 0.0017882000029203482, 0.0013914000010117888, 0.0023497000001952983, 0.0011035999996238388, 0.0035960000022896565]\n",
      "Mean: 2.1805300006235484 ms\n",
      "Standard deviation: 0.9795940496919783 ms\n"
     ]
    }
   ],
   "source": [
    "db_match_start_2 = display_pickle_file('db_match_start_2.pkl')\n",
    "print(\"Data read from pickle file:\", db_match_start_2)\n",
    "db_match_start_2_ave = np.mean(db_match_start_2) * 1000\n",
    "db_match_start_2_std = np.std(db_match_start_2) * 1000\n",
    "print(\"Mean:\", (db_match_start_2_ave), \"ms\")\n",
    "print(\"Standard deviation:\", (db_match_start_2_std), \"ms\")"
   ]
  },
  {
   "cell_type": "markdown",
   "metadata": {},
   "source": [
    "### 3 DB entries"
   ]
  },
  {
   "cell_type": "code",
   "execution_count": 44,
   "metadata": {},
   "outputs": [
    {
     "name": "stdout",
     "output_type": "stream",
     "text": [
      "Data read from pickle file: [0.0024307000057888217, 0.0013431999977910891, 0.00210240000160411, 0.0017222000024048612, 0.0014483000049949624, 0.002006399998208508, 0.0020681000023614615, 0.001240099998540245, 0.0014576999965356663, 0.001433900004485622]\n",
      "Mean: 1.7253000012715347 ms\n",
      "Standard deviation: 0.3809205178972246 ms\n"
     ]
    }
   ],
   "source": [
    "db_match_start_3 = display_pickle_file('db_match_start_3.pkl')\n",
    "print(\"Data read from pickle file:\", db_match_start_3)\n",
    "db_match_start_3_ave = np.mean(db_match_start_3) * 1000\n",
    "db_match_start_3_std = np.std(db_match_start_3) * 1000\n",
    "print(\"Mean:\", (db_match_start_3_ave), \"ms\")\n",
    "print(\"Standard deviation:\", (db_match_start_3_std), \"ms\")"
   ]
  },
  {
   "cell_type": "markdown",
   "metadata": {},
   "source": [
    "### 4 DB entries"
   ]
  },
  {
   "cell_type": "code",
   "execution_count": 45,
   "metadata": {},
   "outputs": [
    {
     "name": "stdout",
     "output_type": "stream",
     "text": [
      "Data read from pickle file: [0.0025045000002137385, 0.004453000001376495, 0.0026572000060696155, 0.0019523999944794923, 0.0057601000007707626, 0.0016926000025705434, 0.0020287999941501766, 0.0013612999973702244, 0.0023166000028140843, 0.0023577000029035844]\n",
      "Mean: 2.7084200002718717 ms\n",
      "Standard deviation: 1.2867446000942673 ms\n"
     ]
    }
   ],
   "source": [
    "db_match_start_4 = display_pickle_file('db_match_start_4.pkl')\n",
    "print(\"Data read from pickle file:\", db_match_start_4)\n",
    "db_match_start_4_ave = np.mean(db_match_start_4) * 1000\n",
    "db_match_start_4_std = np.std(db_match_start_4) * 1000\n",
    "print(\"Mean:\", (db_match_start_4_ave), \"ms\")\n",
    "print(\"Standard deviation:\", (db_match_start_4_std), \"ms\")"
   ]
  },
  {
   "cell_type": "markdown",
   "metadata": {},
   "source": [
    "### 5 DB entries"
   ]
  },
  {
   "cell_type": "code",
   "execution_count": 46,
   "metadata": {},
   "outputs": [
    {
     "name": "stdout",
     "output_type": "stream",
     "text": [
      "Data read from pickle file: [0.00310209999588551, 0.0017010000010486692, 0.0015395000009448268, 0.0016442000051029027, 0.0017741999981808476, 0.0014926000003470108, 0.002663799998117611, 0.0026264000043738633, 0.002471799998602364, 0.002833699996699579]\n",
      "Mean: 2.1849299999303184 ms\n",
      "Standard deviation: 0.5796366934285663 ms\n"
     ]
    }
   ],
   "source": [
    "db_match_start_5 = display_pickle_file('db_match_start_5.pkl')\n",
    "print(\"Data read from pickle file:\", db_match_start_5)\n",
    "db_match_start_5_ave = np.mean(db_match_start_5) * 1000\n",
    "db_match_start_5_std = np.std(db_match_start_5) * 1000\n",
    "print(\"Mean:\", (db_match_start_5_ave), \"ms\")\n",
    "print(\"Standard deviation:\", (db_match_start_5_std), \"ms\")"
   ]
  },
  {
   "cell_type": "markdown",
   "metadata": {},
   "source": [
    "### Generate figure"
   ]
  },
  {
   "cell_type": "code",
   "execution_count": 33,
   "metadata": {},
   "outputs": [
    {
     "data": {
      "image/png": "[encoded data removed]",
      "text/plain": [
       "<Figure size 640x480 with 1 Axes>"
      ]
     },
     "metadata": {},
     "output_type": "display_data"
    }
   ],
   "source": [
    "db_match_start_ave = [db_match_start_1_ave, db_match_start_2_ave, db_match_start_3_ave, db_match_start_4_ave, db_match_start_5_ave] \n",
    "db_match_start_std = [db_match_start_1_std, db_match_start_2_std, db_match_start_3_std, db_match_start_4_std, db_match_start_5_std]\n",
    "\n",
    "bar_width = 0.5\n",
    "\n",
    "x_ticks = [x for x in range(1, len(db_match_start_ave) + 1)]\n",
    "y_ticks = [y / 2 for y in range(0, 10)]\n",
    "\n",
    "plt.bar(x_ticks, db_match_start_ave, bar_width, yerr=db_match_start_std, capsize=3)\n",
    "\n",
    "plt.yticks(y_ticks)\n",
    "plt.xlabel('# of DB Entries')\n",
    "plt.ylabel('Average Execution Time (ms)')\n",
    "plt.title('Average Execution Time for Matching Query as First Entry')\n",
    "\n",
    "plt.show()"
   ]
  },
  {
   "cell_type": "markdown",
   "metadata": {},
   "source": [
    "# Matching query at end of database (last entry)"
   ]
  },
  {
   "cell_type": "markdown",
   "metadata": {},
   "source": [
    "### 1 DB entry"
   ]
  },
  {
   "cell_type": "code",
   "execution_count": 47,
   "metadata": {},
   "outputs": [
    {
     "name": "stdout",
     "output_type": "stream",
     "text": [
      "Data read from pickle file: [0.0016191999966395088, 0.0014278000016929582, 0.0014179999998304993, 0.0019351000009919517, 0.0014060000030440278, 0.001132100005634129, 0.0010395999997854233, 0.0017864000037661754, 0.0016023999996832572, 0.0030994000044302084]\n",
      "Mean: 1.646600001549814 ms\n",
      "Standard deviation: 0.5483874129705016 ms\n"
     ]
    }
   ],
   "source": [
    "db_match_end_1 = display_pickle_file('db_match_end_1.pkl')\n",
    "print(\"Data read from pickle file:\", db_match_end_1)\n",
    "db_match_end_1_ave = np.mean(db_match_end_1) * 1000\n",
    "db_match_end_1_std = np.std(db_match_end_1) * 1000\n",
    "print(\"Mean:\", (db_match_end_1_ave), \"ms\")\n",
    "print(\"Standard deviation:\", (db_match_end_1_std), \"ms\")"
   ]
  },
  {
   "cell_type": "markdown",
   "metadata": {},
   "source": [
    "### 2 DB entries"
   ]
  },
  {
   "cell_type": "code",
   "execution_count": 48,
   "metadata": {},
   "outputs": [
    {
     "name": "stdout",
     "output_type": "stream",
     "text": [
      "Data read from pickle file: [0.002259000000776723, 0.0017637999990256503, 0.0016843999983393587, 0.0015452000006916933, 0.0014350999990710989, 0.0029460000005201437, 0.0015580999970552512, 0.0028488000025390647, 0.00178310000046622, 0.007084900003974326]\n",
      "Mean: 2.490840000245953 ms\n",
      "Standard deviation: 1.614097193852635 ms\n"
     ]
    }
   ],
   "source": [
    "db_match_end_2 = display_pickle_file('db_match_end_2.pkl')\n",
    "print(\"Data read from pickle file:\", db_match_end_2)\n",
    "db_match_end_2_ave = np.mean(db_match_end_2) * 1000\n",
    "db_match_end_2_std = np.std(db_match_end_2) * 1000\n",
    "print(\"Mean:\", (db_match_end_2_ave), \"ms\")\n",
    "print(\"Standard deviation:\", (db_match_end_2_std), \"ms\")"
   ]
  },
  {
   "cell_type": "markdown",
   "metadata": {},
   "source": [
    "### 3 DB entries"
   ]
  },
  {
   "cell_type": "code",
   "execution_count": 49,
   "metadata": {},
   "outputs": [
    {
     "name": "stdout",
     "output_type": "stream",
     "text": [
      "Data read from pickle file: [0.0039150000011431985, 0.0014594999956898391, 0.0019499000045470893, 0.003555800001777243, 0.006603900001209695, 0.003063800002564676, 0.0021916000041528605, 0.0026283000042894855, 0.0021344000051612966, 0.004214100001263432]\n",
      "Mean: 3.1716300021798816 ms\n",
      "Standard deviation: 1.425992973145056 ms\n"
     ]
    }
   ],
   "source": [
    "db_match_end_3 = display_pickle_file('db_match_end_3.pkl')\n",
    "print(\"Data read from pickle file:\", db_match_end_3)\n",
    "db_match_end_3_ave = np.mean(db_match_end_3) * 1000\n",
    "db_match_end_3_std = np.std(db_match_end_3) * 1000\n",
    "print(\"Mean:\", (db_match_end_3_ave), \"ms\")\n",
    "print(\"Standard deviation:\", (db_match_end_3_std), \"ms\")"
   ]
  },
  {
   "cell_type": "markdown",
   "metadata": {},
   "source": [
    "### 4 DB entries"
   ]
  },
  {
   "cell_type": "code",
   "execution_count": 50,
   "metadata": {},
   "outputs": [
    {
     "name": "stdout",
     "output_type": "stream",
     "text": [
      "Data read from pickle file: [0.002456700000038836, 0.0016010000035748817, 0.002192699997976888, 0.0017030999952112325, 0.0017518999957246706, 0.002602299995487556, 0.0020498000012594275, 0.002286699993419461, 0.002858100000594277, 0.0015562999979010783]\n",
      "Mean: 2.105859998118831 ms\n",
      "Standard deviation: 0.4269890540926967 ms\n"
     ]
    }
   ],
   "source": [
    "db_match_end_4 = display_pickle_file('db_match_end_4.pkl')\n",
    "print(\"Data read from pickle file:\", db_match_end_4)\n",
    "db_match_end_4_ave = np.mean(db_match_end_4) * 1000\n",
    "db_match_end_4_std = np.std(db_match_end_4) * 1000\n",
    "print(\"Mean:\", (db_match_end_4_ave), \"ms\")\n",
    "print(\"Standard deviation:\", (db_match_end_4_std), \"ms\")"
   ]
  },
  {
   "cell_type": "markdown",
   "metadata": {},
   "source": [
    "### 5 DB entries"
   ]
  },
  {
   "cell_type": "code",
   "execution_count": 51,
   "metadata": {},
   "outputs": [
    {
     "name": "stdout",
     "output_type": "stream",
     "text": [
      "Data read from pickle file: [0.0023570999983348884, 0.0020490000024437904, 0.002232699996966403, 0.00210460000380408, 0.0016373999969800934, 0.0025027000010595657, 0.001503600004070904, 0.002052699994237628, 0.0032546000002184883, 0.004961300001014024]\n",
      "Mean: 2.4655699999129865 ms\n",
      "Standard deviation: 0.9489021427631371 ms\n"
     ]
    }
   ],
   "source": [
    "db_match_end_5 = display_pickle_file('db_match_end_5.pkl')\n",
    "print(\"Data read from pickle file:\", db_match_end_5)\n",
    "db_match_end_5_ave = np.mean(db_match_end_5) * 1000\n",
    "db_match_end_5_std = np.std(db_match_end_5) * 1000\n",
    "print(\"Mean:\", (db_match_end_5_ave), \"ms\")\n",
    "print(\"Standard deviation:\", (db_match_end_5_std), \"ms\")"
   ]
  },
  {
   "cell_type": "markdown",
   "metadata": {},
   "source": [
    "### Generate figure"
   ]
  },
  {
   "cell_type": "code",
   "execution_count": 32,
   "metadata": {},
   "outputs": [
    {
     "data": {
      "image/png": "[encoded data removed]",
      "text/plain": [
       "<Figure size 640x480 with 1 Axes>"
      ]
     },
     "metadata": {},
     "output_type": "display_data"
    }
   ],
   "source": [
    "db_match_end_ave = [db_match_end_1_ave, db_match_end_2_ave, db_match_end_3_ave, db_match_end_4_ave, db_match_end_5_ave] \n",
    "db_match_end_std = [db_match_end_1_std, db_match_end_2_std, db_match_end_3_std, db_match_end_4_std, db_match_end_5_std]\n",
    "\n",
    "bar_width = 0.5\n",
    "\n",
    "x_ticks = [x for x in range(1, len(db_match_end_ave) + 1)]\n",
    "y_ticks = [y / 2 for y in range(0, 10)]\n",
    "\n",
    "plt.bar(x_ticks, db_match_end_ave, bar_width, yerr=db_match_end_std, capsize=3)\n",
    "\n",
    "plt.yticks(y_ticks)\n",
    "plt.xlabel('# of DB Entries')\n",
    "plt.ylabel('Average Execution Time (ms)')\n",
    "plt.title('Average Execution Time for Matching Query as Last Entry')\n",
    "\n",
    "plt.show()"
   ]
  }
 ],
 "metadata": {
  "kernelspec": {
   "display_name": "Python 3",
   "language": "python",
   "name": "python3"
  },
  "language_info": {
   "codemirror_mode": {
    "name": "ipython",
    "version": 3
   },
   "file_extension": ".py",
   "mimetype": "text/x-python",
   "name": "python",
   "nbconvert_exporter": "python",
   "pygments_lexer": "ipython3",
   "version": "3.12.0"
  }
 },
 "nbformat": 4,
 "nbformat_minor": 2
}
