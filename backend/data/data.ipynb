{
 "cells": [
  {
   "cell_type": "code",
   "execution_count": 55,
   "metadata": {},
   "outputs": [],
   "source": [
    "import pickle\n",
    "import numpy as np\n",
    "import matplotlib.pyplot as plt"
   ]
  },
  {
   "cell_type": "code",
   "execution_count": 9,
   "metadata": {},
   "outputs": [],
   "source": [
    "def display_pickle_file(file_path):\n",
    "    with open(file_path, 'rb') as file:\n",
    "        data = pickle.load(file)\n",
    "        return data"
   ]
  },
  {
   "cell_type": "markdown",
   "metadata": {},
   "source": [
    "# No matching query in database"
   ]
  },
  {
   "cell_type": "code",
   "execution_count": 39,
   "metadata": {},
   "outputs": [
    {
     "name": "stdout",
     "output_type": "stream",
     "text": [
      "Mean: 0.8683199986990076 ms\n",
      "Mean: 0.21024116587863126 ms\n"
     ]
    }
   ],
   "source": [
    "db_no_matches_0 = display_pickle_file('db_no_matches_0.pkl')\n",
    "# print(\"Data read from pickle file:\", db_no_matches_0)\n",
    "db_no_matches_0_ave = np.mean(db_no_matches_0) * 1000\n",
    "db_no_matches_0_std = np.std(db_no_matches_0) * 1000\n",
    "print(\"Mean:\", (db_no_matches_0_ave), \"ms\")\n",
    "print(\"Standard deviation:\", (db_no_matches_0_std), \"ms\")"
   ]
  },
  {
   "cell_type": "code",
   "execution_count": 40,
   "metadata": {},
   "outputs": [
    {
     "name": "stdout",
     "output_type": "stream",
     "text": [
      "Mean: 1.647170000069309 ms\n",
      "Mean: 0.5582603099347999 ms\n"
     ]
    }
   ],
   "source": [
    "db_no_matches_1 = display_pickle_file('db_no_matches_1.pkl')\n",
    "# print(\"Data read from pickle file:\", db_no_matches_1)\n",
    "db_no_matches_1_ave = np.mean(db_no_matches_1) * 1000\n",
    "db_no_matches_1_std = np.std(db_no_matches_1) * 1000\n",
    "print(\"Mean:\", (db_no_matches_1_ave), \"ms\")\n",
    "print(\"Standard deviation:\", (db_no_matches_1_std), \"ms\")"
   ]
  },
  {
   "cell_type": "code",
   "execution_count": 41,
   "metadata": {},
   "outputs": [
    {
     "name": "stdout",
     "output_type": "stream",
     "text": [
      "Mean: 2.4824400003126357 ms\n",
      "Mean: 0.4269963961078579 ms\n"
     ]
    }
   ],
   "source": [
    "db_no_matches_2 = display_pickle_file('db_no_matches_2.pkl')\n",
    "# print(\"Data read from pickle file:\", db_no_matches_2)\n",
    "db_no_matches_2_ave = np.mean(db_no_matches_2) * 1000\n",
    "db_no_matches_2_std = np.std(db_no_matches_2) * 1000\n",
    "print(\"Mean:\", (db_no_matches_2_ave), \"ms\")\n",
    "print(\"Standard deviation:\", (db_no_matches_2_std), \"ms\")"
   ]
  },
  {
   "cell_type": "code",
   "execution_count": 42,
   "metadata": {},
   "outputs": [
    {
     "name": "stdout",
     "output_type": "stream",
     "text": [
      "Mean: 2.855979999731062 ms\n",
      "Mean: 1.336320937422451 ms\n"
     ]
    }
   ],
   "source": [
    "db_no_matches_3 = display_pickle_file('db_no_matches_3.pkl')\n",
    "# print(\"Data read from pickle file:\", db_no_matches_3)\n",
    "db_no_matches_3_ave = np.mean(db_no_matches_3) * 1000\n",
    "db_no_matches_3_std = np.std(db_no_matches_3) * 1000\n",
    "print(\"Mean:\", (db_no_matches_3_ave), \"ms\")\n",
    "print(\"Standard deviation:\", (db_no_matches_3_std), \"ms\")"
   ]
  },
  {
   "cell_type": "code",
   "execution_count": 43,
   "metadata": {},
   "outputs": [
    {
     "name": "stdout",
     "output_type": "stream",
     "text": [
      "Mean: 2.7602299996942747 ms\n",
      "Standard deviation: 0.6981272457527656 ms\n"
     ]
    }
   ],
   "source": [
    "db_no_matches_4 = display_pickle_file('db_no_matches_4.pkl')\n",
    "# print(\"Data read from pickle file:\", db_no_matches_4)\n",
    "db_no_matches_4_ave = np.mean(db_no_matches_4) * 1000\n",
    "db_no_matches_4_std = np.std(db_no_matches_4) * 1000\n",
    "print(\"Mean:\", (db_no_matches_4_ave), \"ms\")\n",
    "print(\"Standard deviation:\", (db_no_matches_4_std), \"ms\")"
   ]
  },
  {
   "cell_type": "code",
   "execution_count": 44,
   "metadata": {},
   "outputs": [
    {
     "name": "stdout",
     "output_type": "stream",
     "text": [
      "Mean: 3.2240800006547943 ms\n",
      "Standard deviation: 1.1821137350200248 ms\n"
     ]
    }
   ],
   "source": [
    "db_no_matches_5 = display_pickle_file('db_no_matches_5.pkl')\n",
    "# print(\"Data read from pickle file:\", db_no_matches_5)\n",
    "db_no_matches_5_ave = np.mean(db_no_matches_5) * 1000\n",
    "db_no_matches_5_std = np.std(db_no_matches_5) * 1000\n",
    "print(\"Mean:\", (db_no_matches_5_ave), \"ms\")\n",
    "print(\"Standard deviation:\", (db_no_matches_5_std), \"ms\")"
   ]
  },
  {
   "cell_type": "code",
   "execution_count": 63,
   "metadata": {},
   "outputs": [
    {
     "data": {
      "image/png": "[encoded data removed]",
      "text/plain": [
       "<Figure size 640x480 with 1 Axes>"
      ]
     },
     "metadata": {},
     "output_type": "display_data"
    }
   ],
   "source": [
    "db_no_matches_ave = [db_no_matches_1_ave, db_no_matches_2_ave, db_no_matches_3_ave, db_no_matches_4_ave, db_no_matches_5_ave] \n",
    "db_no_matches_std = [db_no_matches_1_std, db_no_matches_2_std, db_no_matches_3_std, db_no_matches_4_std, db_no_matches_5_std]\n",
    "\n",
    "bar_width = 0.5\n",
    "\n",
    "x_ticks = np.arange(len(db_no_matches_ave))\n",
    "\n",
    "plt.bar(x_ticks, db_no_matches_ave, bar_width, yerr=db_no_matches_std, capsize=3)\n",
    "\n",
    "plt.xlabel('# of DB Entries')\n",
    "plt.ylabel('Average Execution Time (ms)')\n",
    "plt.title('Average Execution Time for No Matching Queries')\n",
    "\n",
    "plt.show()"
   ]
  },
  {
   "cell_type": "markdown",
   "metadata": {},
   "source": [
    "# Matching query at start of database"
   ]
  },
  {
   "cell_type": "code",
   "execution_count": 45,
   "metadata": {},
   "outputs": [
    {
     "name": "stdout",
     "output_type": "stream",
     "text": [
      "Mean: 1.391370000783354 ms\n",
      "Standard deviation: 0.2958073782604505 ms\n"
     ]
    }
   ],
   "source": [
    "db_match_start_1 = display_pickle_file('db_match_start_1.pkl')\n",
    "# print(\"Data read from pickle file:\", db_match_start_1)\n",
    "db_match_start_1_ave = np.mean(db_match_start_1) * 1000\n",
    "db_match_start_1_std = np.std(db_match_start_1) * 1000\n",
    "print(\"Mean:\", (db_match_start_1_ave), \"ms\")\n",
    "print(\"Standard deviation:\", (db_match_start_1_std), \"ms\")"
   ]
  },
  {
   "cell_type": "code",
   "execution_count": 46,
   "metadata": {},
   "outputs": [
    {
     "name": "stdout",
     "output_type": "stream",
     "text": [
      "Mean: 2.1805300006235484 ms\n",
      "Standard deviation: 0.9795940496919783 ms\n"
     ]
    }
   ],
   "source": [
    "db_match_start_2 = display_pickle_file('db_match_start_2.pkl')\n",
    "# print(\"Data read from pickle file:\", db_match_start_2)\n",
    "db_match_start_2_ave = np.mean(db_match_start_2) * 1000\n",
    "db_match_start_2_std = np.std(db_match_start_2) * 1000\n",
    "print(\"Mean:\", (db_match_start_2_ave), \"ms\")\n",
    "print(\"Standard deviation:\", (db_match_start_2_std), \"ms\")"
   ]
  },
  {
   "cell_type": "code",
   "execution_count": 47,
   "metadata": {},
   "outputs": [
    {
     "name": "stdout",
     "output_type": "stream",
     "text": [
      "Mean: 1.7253000012715347 ms\n",
      "Standard deviation: 0.3809205178972246 ms\n"
     ]
    }
   ],
   "source": [
    "db_match_start_3 = display_pickle_file('db_match_start_3.pkl')\n",
    "# print(\"Data read from pickle file:\", db_match_start_3)\n",
    "db_match_start_3_ave = np.mean(db_match_start_3) * 1000\n",
    "db_match_start_3_std = np.std(db_match_start_3) * 1000\n",
    "print(\"Mean:\", (db_match_start_3_ave), \"ms\")\n",
    "print(\"Standard deviation:\", (db_match_start_3_std), \"ms\")"
   ]
  },
  {
   "cell_type": "code",
   "execution_count": 48,
   "metadata": {},
   "outputs": [
    {
     "name": "stdout",
     "output_type": "stream",
     "text": [
      "Mean: 2.7084200002718717 ms\n",
      "Standard deviation: 1.2867446000942673 ms\n"
     ]
    }
   ],
   "source": [
    "db_match_start_4 = display_pickle_file('db_match_start_4.pkl')\n",
    "# print(\"Data read from pickle file:\", db_match_start_4)\n",
    "db_match_start_4_ave = np.mean(db_match_start_4) * 1000\n",
    "db_match_start_4_std = np.std(db_match_start_4) * 1000\n",
    "print(\"Mean:\", (db_match_start_4_ave), \"ms\")\n",
    "print(\"Standard deviation:\", (db_match_start_4_std), \"ms\")"
   ]
  },
  {
   "cell_type": "code",
   "execution_count": 49,
   "metadata": {},
   "outputs": [
    {
     "name": "stdout",
     "output_type": "stream",
     "text": [
      "Mean: 2.1849299999303184 ms\n",
      "Standard deviation: 0.5796366934285663 ms\n"
     ]
    }
   ],
   "source": [
    "db_match_start_5 = display_pickle_file('db_match_start_5.pkl')\n",
    "# print(\"Data read from pickle file:\", db_match_start_5)\n",
    "db_match_start_5_ave = np.mean(db_match_start_5) * 1000\n",
    "db_match_start_5_std = np.std(db_match_start_5) * 1000\n",
    "print(\"Mean:\", (db_match_start_5_ave), \"ms\")\n",
    "print(\"Standard deviation:\", (db_match_start_5_std), \"ms\")"
   ]
  },
  {
   "cell_type": "code",
   "execution_count": 69,
   "metadata": {},
   "outputs": [
    {
     "data": {
      "image/png": "[encoded data removed]",
      "text/plain": [
       "<Figure size 640x480 with 1 Axes>"
      ]
     },
     "metadata": {},
     "output_type": "display_data"
    }
   ],
   "source": [
    "db_match_start_ave = [db_match_start_1_ave, db_match_start_2_ave, db_match_start_3_ave, db_match_start_4_ave, db_match_start_5_ave] \n",
    "db_match_start_std = [db_match_start_1_std, db_match_start_2_std, db_match_start_3_std, db_match_start_4_std, db_match_start_5_std]\n",
    "\n",
    "bar_width = 0.5\n",
    "\n",
    "x_ticks = np.arange(len(db_match_start_ave))\n",
    "\n",
    "plt.bar(x_ticks, db_match_start_ave, bar_width, yerr=db_match_start_std, capsize=3)\n",
    "\n",
    "plt.xlabel('# of DB Entries')\n",
    "plt.ylabel('Average Execution Time (ms)')\n",
    "plt.title('Average Execution Time for Matching Query as First Entry')\n",
    "\n",
    "plt.show()"
   ]
  },
  {
   "cell_type": "markdown",
   "metadata": {},
   "source": [
    "# Matching query at end of database"
   ]
  },
  {
   "cell_type": "code",
   "execution_count": 50,
   "metadata": {},
   "outputs": [
    {
     "name": "stdout",
     "output_type": "stream",
     "text": [
      "Mean: 1.646600001549814 ms\n",
      "Standard deviation: 0.5483874129705016 ms\n"
     ]
    }
   ],
   "source": [
    "db_match_end_1 = display_pickle_file('db_match_end_1.pkl')\n",
    "# print(\"Data read from pickle file:\", db_match_end_1)\n",
    "db_match_end_1_ave = np.mean(db_match_end_1) * 1000\n",
    "db_match_end_1_std = np.std(db_match_end_1) * 1000\n",
    "print(\"Mean:\", (db_match_end_1_ave), \"ms\")\n",
    "print(\"Standard deviation:\", (db_match_end_1_std), \"ms\")"
   ]
  },
  {
   "cell_type": "code",
   "execution_count": 51,
   "metadata": {},
   "outputs": [
    {
     "name": "stdout",
     "output_type": "stream",
     "text": [
      "Mean: 2.490840000245953 ms\n",
      "Standard deviation: 1.614097193852635 ms\n"
     ]
    }
   ],
   "source": [
    "db_match_end_2 = display_pickle_file('db_match_end_2.pkl')\n",
    "# print(\"Data read from pickle file:\", db_match_end_2)\n",
    "db_match_end_2_ave = np.mean(db_match_end_2) * 1000\n",
    "db_match_end_2_std = np.std(db_match_end_2) * 1000\n",
    "print(\"Mean:\", (db_match_end_2_ave), \"ms\")\n",
    "print(\"Standard deviation:\", (db_match_end_2_std), \"ms\")"
   ]
  },
  {
   "cell_type": "code",
   "execution_count": 52,
   "metadata": {},
   "outputs": [
    {
     "name": "stdout",
     "output_type": "stream",
     "text": [
      "Mean: 3.1716300021798816 ms\n",
      "Standard deviation: 1.425992973145056 ms\n"
     ]
    }
   ],
   "source": [
    "db_match_end_3 = display_pickle_file('db_match_end_3.pkl')\n",
    "# print(\"Data read from pickle file:\", db_match_end_3)\n",
    "db_match_end_3_ave = np.mean(db_match_end_3) * 1000\n",
    "db_match_end_3_std = np.std(db_match_end_3) * 1000\n",
    "print(\"Mean:\", (db_match_end_3_ave), \"ms\")\n",
    "print(\"Standard deviation:\", (db_match_end_3_std), \"ms\")"
   ]
  },
  {
   "cell_type": "code",
   "execution_count": 53,
   "metadata": {},
   "outputs": [
    {
     "name": "stdout",
     "output_type": "stream",
     "text": [
      "Mean: 2.105859998118831 ms\n",
      "Standard deviation: 0.4269890540926967 ms\n"
     ]
    }
   ],
   "source": [
    "db_match_end_4 = display_pickle_file('db_match_end_4.pkl')\n",
    "# print(\"Data read from pickle file:\", db_match_end_4)\n",
    "db_match_end_4_ave = np.mean(db_match_end_4) * 1000\n",
    "db_match_end_4_std = np.std(db_match_end_4) * 1000\n",
    "print(\"Mean:\", (db_match_end_4_ave), \"ms\")\n",
    "print(\"Standard deviation:\", (db_match_end_4_std), \"ms\")"
   ]
  },
  {
   "cell_type": "code",
   "execution_count": 54,
   "metadata": {},
   "outputs": [
    {
     "name": "stdout",
     "output_type": "stream",
     "text": [
      "Mean: 2.4655699999129865 ms\n",
      "Standard deviation: 0.9489021427631371 ms\n"
     ]
    }
   ],
   "source": [
    "db_match_end_5 = display_pickle_file('db_match_end_5.pkl')\n",
    "# print(\"Data read from pickle file:\", db_match_end_5)\n",
    "db_match_end_5_ave = np.mean(db_match_end_5) * 1000\n",
    "db_match_end_5_std = np.std(db_match_end_5) * 1000\n",
    "print(\"Mean:\", (db_match_end_5_ave), \"ms\")\n",
    "print(\"Standard deviation:\", (db_match_end_5_std), \"ms\")"
   ]
  },
  {
   "cell_type": "code",
   "execution_count": 68,
   "metadata": {},
   "outputs": [
    {
     "data": {
      "image/png": "[encoded data removed]",
      "text/plain": [
       "<Figure size 640x480 with 1 Axes>"
      ]
     },
     "metadata": {},
     "output_type": "display_data"
    }
   ],
   "source": [
    "db_match_end_ave = [db_match_end_1_ave, db_match_end_2_ave, db_match_end_3_ave, db_match_end_4_ave, db_match_end_5_ave] \n",
    "db_match_end_std = [db_match_end_1_std, db_match_end_2_std, db_match_end_3_std, db_match_end_4_std, db_match_end_5_std]\n",
    "\n",
    "bar_width = 0.5\n",
    "\n",
    "x_ticks = np.arange(len(db_match_end_ave))\n",
    "\n",
    "plt.bar(x_ticks, db_match_end_ave, bar_width, yerr=db_match_end_std, capsize=3)\n",
    "\n",
    "plt.xlabel('# of DB Entries')\n",
    "plt.ylabel('Average Execution Time (ms)')\n",
    "plt.title('Average Execution Time for Matching Query as Last Entry')\n",
    "\n",
    "plt.show()"
   ]
  }
 ],
 "metadata": {
  "kernelspec": {
   "display_name": "Python 3",
   "language": "python",
   "name": "python3"
  },
  "language_info": {
   "codemirror_mode": {
    "name": "ipython",
    "version": 3
   },
   "file_extension": ".py",
   "mimetype": "text/x-python",
   "name": "python",
   "nbconvert_exporter": "python",
   "pygments_lexer": "ipython3",
   "version": "3.12.0"
  }
 },
 "nbformat": 4,
 "nbformat_minor": 2
}
